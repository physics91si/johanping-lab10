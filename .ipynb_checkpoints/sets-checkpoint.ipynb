{
 "cells": [
  {
   "cell_type": "code",
   "execution_count": 172,
   "metadata": {
    "collapsed": false
   },
   "outputs": [
    {
     "name": "stdout",
     "output_type": "stream",
     "text": [
      "I'm sorry, that is not in the set.\n",
      "[1, 3, 4, 5, 8]\n",
      "[1, 3, 5, 8]\n",
      "[4]\n"
     ]
    }
   ],
   "source": [
    "#testing code \n",
    "\n",
    "#import sets.py\n",
    "\n",
    "a = NewSet([1,3,4,5])\n",
    "a.does_contain(10)\n",
    "a.adder(9)\n",
    "a.remover(9)\n",
    "a.remover(10)\n",
    "a.size()\n",
    "print(a.__union__([1,3,5,8]))\n",
    "print(a.__intersection__([1,3,5,8]))\n",
    "print(a.__sub__([1,3,5,8]))"
   ]
  },
  {
   "cell_type": "code",
   "execution_count": 171,
   "metadata": {
    "collapsed": false
   },
   "outputs": [],
   "source": [
    "#Write a set class\n",
    "\n",
    "class NewSet(object):\n",
    "    def __init__(self,set):\n",
    "        self.set = set\n",
    "    def does_contain(self,other):\n",
    "        return other in self.set\n",
    "    def adder(self,other):\n",
    "        newlist = self.set\n",
    "        if other not in self.set:\n",
    "            newlist.append(other)\n",
    "        return newlist\n",
    "    def remover(self,other):\n",
    "        newlist = self.set\n",
    "        if other in self.set:\n",
    "            newlist.remove(other)\n",
    "            return newlist\n",
    "        else:\n",
    "            print(\"I'm sorry, that is not in the set.\")\n",
    "    def size(self):\n",
    "        return len(self.set)\n",
    "    def __union__(self, b):\n",
    "        list = self.set\n",
    "        for i in range(0,len(b)):\n",
    "            if b[i] not in list:\n",
    "                list.append(b[i])\n",
    "        return list\n",
    "    def __intersection__(self,b):\n",
    "        list = []\n",
    "        for i in range(0,len(b)):\n",
    "            if b[i] in self.set:\n",
    "                list.append(b[i])\n",
    "        return list\n",
    "    def __sub__(self,other):\n",
    "        list = []\n",
    "        for i in range(0,len(other)):\n",
    "            if self.set[i] not in other:\n",
    "                list.append(self.set[i])\n",
    "        return list\n",
    "    "
   ]
  },
  {
   "cell_type": "code",
   "execution_count": null,
   "metadata": {
    "collapsed": false
   },
   "outputs": [],
   "source": []
  },
  {
   "cell_type": "code",
   "execution_count": null,
   "metadata": {
    "collapsed": true
   },
   "outputs": [],
   "source": []
  }
 ],
 "metadata": {
  "kernelspec": {
   "display_name": "Python 3",
   "language": "python",
   "name": "python3"
  },
  "language_info": {
   "codemirror_mode": {
    "name": "ipython",
    "version": 3
   },
   "file_extension": ".py",
   "mimetype": "text/x-python",
   "name": "python",
   "nbconvert_exporter": "python",
   "pygments_lexer": "ipython3",
   "version": "3.5.1"
  }
 },
 "nbformat": 4,
 "nbformat_minor": 0
}
